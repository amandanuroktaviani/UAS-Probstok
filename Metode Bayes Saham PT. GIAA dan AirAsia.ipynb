{
  "nbformat": 4,
  "nbformat_minor": 0,
  "metadata": {
    "colab": {
      "name": "Untitled8.ipynb",
      "provenance": [],
      "collapsed_sections": []
    },
    "kernelspec": {
      "name": "python3",
      "display_name": "Python 3"
    }
  },
  "cells": [
    {
      "cell_type": "code",
      "metadata": {
        "id": "_v_gQK-i2-O6",
        "colab_type": "code",
        "outputId": "ca34dd7c-d53c-4407-993a-e37643481101",
        "colab": {
          "base_uri": "https://localhost:8080/",
          "height": 34
        }
      },
      "source": [
        "import pandas as pd\n",
        "import numpy as np\n",
        "import matplotlib.pyplot as plt\n",
        "import seaborn as sns\n",
        "import time\n",
        "import matplotlib.pyplot as plt\n",
        "import random\n",
        "from collections import Counter as ct\n",
        "from sklearn.naive_bayes import GaussianNB\n",
        "from sklearn.preprocessing import LabelEncoder\n",
        "from sklearn.model_selection import train_test_split\n",
        "from sklearn.metrics import accuracy_score\n",
        "\n",
        "from google.colab import drive\n",
        "drive.mount('/content/gdrive')"
      ],
      "execution_count": 30,
      "outputs": [
        {
          "output_type": "stream",
          "text": [
            "Drive already mounted at /content/gdrive; to attempt to forcibly remount, call drive.mount(\"/content/gdrive\", force_remount=True).\n"
          ],
          "name": "stdout"
        }
      ]
    },
    {
      "cell_type": "code",
      "metadata": {
        "id": "Vr5UotVP3LxS",
        "colab_type": "code",
        "outputId": "015a9041-3271-4426-84a3-94fb7fec2a69",
        "colab": {
          "base_uri": "https://localhost:8080/",
          "height": 493
        }
      },
      "source": [
        "data1 = pd.read_csv('gdrive/My Drive/Garuda Indonesia.csv')\n",
        "data2 = pd.read_csv('gdrive/My Drive/Air Asia.csv')\n",
        "\n",
        "print(data1)\n",
        "print(data2)"
      ],
      "execution_count": 0,
      "outputs": [
        {
          "output_type": "stream",
          "text": [
            "            Date        Open        High  ...       Close   Adj Close       Volume\n",
            "0     12/19/2011  421.550995  421.550995  ...  421.550995  421.550995    1747179.0\n",
            "1     12/20/2011  476.105011  476.105011  ...  476.105011  476.105011  102513458.0\n",
            "2     12/21/2011  456.266998  486.023010  ...  456.266998  456.266998   54796708.0\n",
            "3     12/22/2011  456.266998  466.186005  ...  456.266998  456.266998   13488971.0\n",
            "4     12/23/2011  466.186005  471.144989  ...  466.186005  466.186005   20638998.0\n",
            "...          ...         ...         ...  ...         ...         ...          ...\n",
            "1994  12/10/2019  505.000000  525.000000  ...  515.000000  515.000000   31196000.0\n",
            "1995  12/11/2019  515.000000  525.000000  ...  500.000000  500.000000   25387300.0\n",
            "1996  12/12/2019  500.000000  515.000000  ...  500.000000  500.000000    8470600.0\n",
            "1997  12/13/2019  500.000000  510.000000  ...  498.000000  498.000000   21409000.0\n",
            "1998  12/16/2019  500.000000  510.000000  ...  505.000000  505.000000   14257800.0\n",
            "\n",
            "[1999 rows x 7 columns]\n",
            "            Date  Open  High   Low  Close  Adj Close     Volume\n",
            "0     12/19/2011  3.74  3.74  3.70   3.72   3.199869  2683000.0\n",
            "1     12/20/2011  3.72  3.72  3.59   3.60   3.096648  4329000.0\n",
            "2     12/21/2011  3.67  3.70  3.63   3.66   3.148258  3901300.0\n",
            "3     12/22/2011  3.64  3.70  3.63   3.70   3.182666  4400300.0\n",
            "4     12/23/2011  3.72  3.73  3.69   3.70   3.182666  2359400.0\n",
            "...          ...   ...   ...   ...    ...        ...        ...\n",
            "1974  12/10/2019  1.68  1.68  1.65   1.66   1.660000  9465200.0\n",
            "1975  12/11/2019  1.66  1.68  1.64   1.66   1.660000  9430900.0\n",
            "1976  12/12/2019  1.67  1.67  1.65   1.65   1.650000  4396200.0\n",
            "1977  12/13/2019  1.65  1.67  1.64   1.65   1.650000  9387700.0\n",
            "1978  12/16/2019  1.67  1.72  1.65   1.69   1.690000  8755800.0\n",
            "\n",
            "[1979 rows x 7 columns]\n"
          ],
          "name": "stdout"
        }
      ]
    },
    {
      "cell_type": "code",
      "metadata": {
        "id": "yaBt2TFj3YEG",
        "colab_type": "code",
        "outputId": "c08555b7-a48f-46bc-e4c0-6d9dbbb02326",
        "colab": {
          "base_uri": "https://localhost:8080/",
          "height": 493
        }
      },
      "source": [
        "data1['Date'] = pd.to_datetime(data1['Date'])\n",
        "print(data1)\n",
        "\n",
        "data2['Date'] = pd.to_datetime(data2['Date'])\n",
        "print(data2)"
      ],
      "execution_count": 0,
      "outputs": [
        {
          "output_type": "stream",
          "text": [
            "           Date        Open        High  ...       Close   Adj Close       Volume\n",
            "0    2011-12-19  421.550995  421.550995  ...  421.550995  421.550995    1747179.0\n",
            "1    2011-12-20  476.105011  476.105011  ...  476.105011  476.105011  102513458.0\n",
            "2    2011-12-21  456.266998  486.023010  ...  456.266998  456.266998   54796708.0\n",
            "3    2011-12-22  456.266998  466.186005  ...  456.266998  456.266998   13488971.0\n",
            "4    2011-12-23  466.186005  471.144989  ...  466.186005  466.186005   20638998.0\n",
            "...         ...         ...         ...  ...         ...         ...          ...\n",
            "1994 2019-12-10  505.000000  525.000000  ...  515.000000  515.000000   31196000.0\n",
            "1995 2019-12-11  515.000000  525.000000  ...  500.000000  500.000000   25387300.0\n",
            "1996 2019-12-12  500.000000  515.000000  ...  500.000000  500.000000    8470600.0\n",
            "1997 2019-12-13  500.000000  510.000000  ...  498.000000  498.000000   21409000.0\n",
            "1998 2019-12-16  500.000000  510.000000  ...  505.000000  505.000000   14257800.0\n",
            "\n",
            "[1999 rows x 7 columns]\n",
            "           Date  Open  High   Low  Close  Adj Close     Volume\n",
            "0    2011-12-19  3.74  3.74  3.70   3.72   3.199869  2683000.0\n",
            "1    2011-12-20  3.72  3.72  3.59   3.60   3.096648  4329000.0\n",
            "2    2011-12-21  3.67  3.70  3.63   3.66   3.148258  3901300.0\n",
            "3    2011-12-22  3.64  3.70  3.63   3.70   3.182666  4400300.0\n",
            "4    2011-12-23  3.72  3.73  3.69   3.70   3.182666  2359400.0\n",
            "...         ...   ...   ...   ...    ...        ...        ...\n",
            "1974 2019-12-10  1.68  1.68  1.65   1.66   1.660000  9465200.0\n",
            "1975 2019-12-11  1.66  1.68  1.64   1.66   1.660000  9430900.0\n",
            "1976 2019-12-12  1.67  1.67  1.65   1.65   1.650000  4396200.0\n",
            "1977 2019-12-13  1.65  1.67  1.64   1.65   1.650000  9387700.0\n",
            "1978 2019-12-16  1.67  1.72  1.65   1.69   1.690000  8755800.0\n",
            "\n",
            "[1979 rows x 7 columns]\n"
          ],
          "name": "stdout"
        }
      ]
    },
    {
      "cell_type": "code",
      "metadata": {
        "id": "NiNzY9LX3cCN",
        "colab_type": "code",
        "colab": {}
      },
      "source": [
        ""
      ],
      "execution_count": 0,
      "outputs": []
    },
    {
      "cell_type": "code",
      "metadata": {
        "id": "KRJff4W33eAn",
        "colab_type": "code",
        "outputId": "d67046c0-320d-4d90-f52c-56d269d6134b",
        "colab": {
          "base_uri": "https://localhost:8080/",
          "height": 178
        }
      },
      "source": [
        "data1 = data1.set_index('Date')\n",
        "sns.set(rc={'figure.figsize':(8, 2)})\n",
        "adj_close = data1['Adj Close']\n",
        "data1.loc['2011': '2019', 'Adj Close'].plot(linewidth=0.5);"
      ],
      "execution_count": 0,
      "outputs": [
        {
          "output_type": "display_data",
          "data": {
            "image/png": "[encoded data removed]",
            "text/plain": [
              "<Figure size 576x144 with 1 Axes>"
            ]
          },
          "metadata": {
            "tags": []
          }
        }
      ]
    },
    {
      "cell_type": "code",
      "metadata": {
        "id": "bb7r7FPE3frs",
        "colab_type": "code",
        "outputId": "52aa99a2-614c-439c-879a-50493a30ba5a",
        "colab": {
          "base_uri": "https://localhost:8080/",
          "height": 178
        }
      },
      "source": [
        "data2 = data2.set_index('Date')\n",
        "sns.set(rc={'figure.figsize':(8, 2)})\n",
        "adj_close = data2['Adj Close']\n",
        "data2.loc['2011': '2019', 'Adj Close'].plot(linewidth=0.5);"
      ],
      "execution_count": 0,
      "outputs": [
        {
          "output_type": "display_data",
          "data": {
            "image/png": "[encoded data removed]",
            "text/plain": [
              "<Figure size 576x144 with 1 Axes>"
            ]
          },
          "metadata": {
            "tags": []
          }
        }
      ]
    },
    {
      "cell_type": "code",
      "metadata": {
        "id": "6MC7fff630HX",
        "colab_type": "code",
        "colab": {
          "base_uri": "https://localhost:8080/",
          "height": 176
        },
        "outputId": "a436da53-aa75-432d-a81d-da0d868e395e"
      },
      "source": [
        "adj_close = data1['Adj Close']\n",
        "\n",
        "time = np.linspace(1, len(adj_close), len(adj_close))\n",
        "\n",
        "plt.plot(time, adj_close, label = '2011-2019', ls = '--')\n"
      ],
      "execution_count": 6,
      "outputs": [
        {
          "output_type": "execute_result",
          "data": {
            "text/plain": [
              "[<matplotlib.lines.Line2D at 0x7f9ecc89a668>]"
            ]
          },
          "metadata": {
            "tags": []
          },
          "execution_count": 6
        },
        {
          "output_type": "display_data",
          "data": {
            "image/png": "[encoded data removed]",
            "text/plain": [
              "<Figure size 576x144 with 1 Axes>"
            ]
          },
          "metadata": {
            "tags": []
          }
        }
      ]
    },
    {
      "cell_type": "code",
      "metadata": {
        "id": "45CxfVTV6Fdx",
        "colab_type": "code",
        "colab": {
          "base_uri": "https://localhost:8080/",
          "height": 176
        },
        "outputId": "d3e2cef0-6a60-4fce-92b7-43f697dc1bde"
      },
      "source": [
        "adj_close = data2['Adj Close']\n",
        "\n",
        "time = np.linspace(1, len(adj_close), len(adj_close))\n",
        "\n",
        "plt.plot(time, adj_close, label = '2011-2019', ls = '--')"
      ],
      "execution_count": 7,
      "outputs": [
        {
          "output_type": "execute_result",
          "data": {
            "text/plain": [
              "[<matplotlib.lines.Line2D at 0x7f9ecc7fcba8>]"
            ]
          },
          "metadata": {
            "tags": []
          },
          "execution_count": 7
        },
        {
          "output_type": "display_data",
          "data": {
            "image/png": "[encoded data removed]",
            "text/plain": [
              "<Figure size 576x144 with 1 Axes>"
            ]
          },
          "metadata": {
            "tags": []
          }
        }
      ]
    },
    {
      "cell_type": "code",
      "metadata": {
        "id": "3CM3ngHT6bEQ",
        "colab_type": "code",
        "colab": {
          "base_uri": "https://localhost:8080/",
          "height": 238
        },
        "outputId": "0a35754c-0622-4a06-aa70-b94c423465d5"
      },
      "source": [
        "base_data = \"Volume\"\n",
        "data_p = 10000000\n",
        "data1[\"Prediksi\"] = np.where(data1[base_data] >= data_p,\"Positive\",\"Negative\")\n",
        "print(data1[\"Prediksi\"])"
      ],
      "execution_count": 8,
      "outputs": [
        {
          "output_type": "stream",
          "text": [
            "Date\n",
            "2011-12-19    Negative\n",
            "2011-12-20    Positive\n",
            "2011-12-21    Positive\n",
            "2011-12-22    Positive\n",
            "2011-12-23    Positive\n",
            "                ...   \n",
            "2019-12-10    Positive\n",
            "2019-12-11    Positive\n",
            "2019-12-12    Negative\n",
            "2019-12-13    Positive\n",
            "2019-12-16    Positive\n",
            "Name: Prediksi, Length: 1999, dtype: object\n"
          ],
          "name": "stdout"
        }
      ]
    },
    {
      "cell_type": "code",
      "metadata": {
        "id": "2XJPtXxd71BP",
        "colab_type": "code",
        "colab": {
          "base_uri": "https://localhost:8080/",
          "height": 238
        },
        "outputId": "5e3dd84f-713c-44a6-98e1-d1be9a8e8cd9"
      },
      "source": [
        "base_data = \"Volume\"\n",
        "data_p = 10000000\n",
        "data2[\"Prediksi\"] = np.where(data2[base_data] >= data_p,\"Positive\",\"Negative\")\n",
        "print(data2[\"Prediksi\"])"
      ],
      "execution_count": 11,
      "outputs": [
        {
          "output_type": "stream",
          "text": [
            "Date\n",
            "2011-12-19    Negative\n",
            "2011-12-20    Negative\n",
            "2011-12-21    Negative\n",
            "2011-12-22    Negative\n",
            "2011-12-23    Negative\n",
            "                ...   \n",
            "2019-12-10    Negative\n",
            "2019-12-11    Negative\n",
            "2019-12-12    Negative\n",
            "2019-12-13    Negative\n",
            "2019-12-16    Negative\n",
            "Name: Prediksi, Length: 1979, dtype: object\n"
          ],
          "name": "stdout"
        }
      ]
    },
    {
      "cell_type": "code",
      "metadata": {
        "id": "YcRvcKnd837y",
        "colab_type": "code",
        "colab": {
          "base_uri": "https://localhost:8080/",
          "height": 272
        },
        "outputId": "8371a4bd-0763-402a-a303-acb0069bafb6"
      },
      "source": [
        "n_o_d = 4\n",
        "variable_array = [\"Open\",\"High\",\"Low\",\"Close\"]\n",
        "variable_array.append(\"Prediksi\")\n",
        "data1 = data1[variable_array].dropna(axis=0,how='any')\n",
        "print(data1)"
      ],
      "execution_count": 13,
      "outputs": [
        {
          "output_type": "stream",
          "text": [
            "                  Open        High         Low       Close  Prediksi\n",
            "Date                                                                \n",
            "2011-12-19  421.550995  421.550995  416.591003  421.550995  Negative\n",
            "2011-12-20  476.105011  476.105011  421.550995  476.105011  Positive\n",
            "2011-12-21  456.266998  486.023010  456.266998  456.266998  Positive\n",
            "2011-12-22  456.266998  466.186005  451.307007  456.266998  Positive\n",
            "2011-12-23  466.186005  471.144989  456.266998  466.186005  Positive\n",
            "...                ...         ...         ...         ...       ...\n",
            "2019-12-10  505.000000  525.000000  500.000000  515.000000  Positive\n",
            "2019-12-11  515.000000  525.000000  500.000000  500.000000  Positive\n",
            "2019-12-12  500.000000  515.000000  500.000000  500.000000  Negative\n",
            "2019-12-13  500.000000  510.000000  496.000000  498.000000  Positive\n",
            "2019-12-16  500.000000  510.000000  498.000000  505.000000  Positive\n",
            "\n",
            "[1989 rows x 5 columns]\n"
          ],
          "name": "stdout"
        }
      ]
    },
    {
      "cell_type": "code",
      "metadata": {
        "id": "PIsrlPWO9rxJ",
        "colab_type": "code",
        "colab": {
          "base_uri": "https://localhost:8080/",
          "height": 272
        },
        "outputId": "2527dc67-1c0a-4725-dd32-7388a1ec5479"
      },
      "source": [
        "n_o_d = 4\n",
        "variable_array = [\"Open\",\"High\",\"Low\",\"Close\"]\n",
        "variable_array.append(\"Prediksi\")\n",
        "data2 = data2[variable_array].dropna(axis=0,how='any')\n",
        "print(data2)"
      ],
      "execution_count": 14,
      "outputs": [
        {
          "output_type": "stream",
          "text": [
            "            Open  High   Low  Close  Prediksi\n",
            "Date                                         \n",
            "2011-12-19  3.74  3.74  3.70   3.72  Negative\n",
            "2011-12-20  3.72  3.72  3.59   3.60  Negative\n",
            "2011-12-21  3.67  3.70  3.63   3.66  Negative\n",
            "2011-12-22  3.64  3.70  3.63   3.70  Negative\n",
            "2011-12-23  3.72  3.73  3.69   3.70  Negative\n",
            "...          ...   ...   ...    ...       ...\n",
            "2019-12-10  1.68  1.68  1.65   1.66  Negative\n",
            "2019-12-11  1.66  1.68  1.64   1.66  Negative\n",
            "2019-12-12  1.67  1.67  1.65   1.65  Negative\n",
            "2019-12-13  1.65  1.67  1.64   1.65  Negative\n",
            "2019-12-16  1.67  1.72  1.65   1.69  Negative\n",
            "\n",
            "[1725 rows x 5 columns]\n"
          ],
          "name": "stdout"
        }
      ]
    },
    {
      "cell_type": "code",
      "metadata": {
        "id": "obRwsWtE917d",
        "colab_type": "code",
        "colab": {
          "base_uri": "https://localhost:8080/",
          "height": 34
        },
        "outputId": "3cc04474-49dc-4f65-d957-a38487c0b877"
      },
      "source": [
        "train, test = train_test_split(data1, test_size=0.6, random_state=int(4))\n",
        "gnb = GaussianNB()\n",
        "newarr1 = []\n",
        "newarr1.extend(variable_array)\n",
        "newarr1.remove(\"Prediksi\")\n",
        "\n",
        "gnb.fit(train[newarr1].values, train[\"Prediksi\"])\n",
        "result1 = gnb.predict(test[newarr1])\n",
        "\n",
        "print(result1)"
      ],
      "execution_count": 33,
      "outputs": [
        {
          "output_type": "stream",
          "text": [
            "['Positive' 'Positive' 'Negative' ... 'Positive' 'Positive' 'Negative']\n"
          ],
          "name": "stdout"
        }
      ]
    },
    {
      "cell_type": "code",
      "metadata": {
        "id": "8EPn3F4q-ubW",
        "colab_type": "code",
        "colab": {
          "base_uri": "https://localhost:8080/",
          "height": 34
        },
        "outputId": "6c99dc45-b8fc-4de0-d6fe-0ca8cd280ac5"
      },
      "source": [
        "train, test = train_test_split(data2, test_size=0.6, random_state=int(4))\n",
        "gnb = GaussianNB()\n",
        "newarr2 = []\n",
        "newarr2.extend(variable_array)\n",
        "newarr2.remove(\"Prediksi\")\n",
        "\n",
        "gnb.fit(train[newarr2].values, train[\"Prediksi\"])\n",
        "result = gnb.predict(test[newarr2])\n",
        "\n",
        "print(result2)"
      ],
      "execution_count": 35,
      "outputs": [
        {
          "output_type": "stream",
          "text": [
            "['Negative' 'Positive' 'Negative' ... 'Negative' 'Negative' 'Negative']\n"
          ],
          "name": "stdout"
        }
      ]
    },
    {
      "cell_type": "code",
      "metadata": {
        "id": "-_WR3SV5Bezi",
        "colab_type": "code",
        "colab": {
          "base_uri": "https://localhost:8080/",
          "height": 156
        },
        "outputId": "27aa92f2-cc31-41c7-ca1a-1c4874db6054"
      },
      "source": [
        "counts = ct(result1)\n",
        "count_p = counts['Positive']\n",
        "count_n = counts['Negative']\n",
        "slices = [count_p,count_n]\n",
        "cols = ['b','c']\n",
        "plt.pie(slices, labels=['Positive','Negative'],colors = cols,shadow=True,startangle=90,autopct='%1.1f%%')\n",
        "plt.title(\"Prediksi\")\n",
        "plt.legend()\n",
        "plt.show()"
      ],
      "execution_count": 34,
      "outputs": [
        {
          "output_type": "display_data",
          "data": {
            "image/png": "[encoded data removed]",
            "text/plain": [
              "<Figure size 576x144 with 1 Axes>"
            ]
          },
          "metadata": {
            "tags": []
          }
        }
      ]
    },
    {
      "cell_type": "code",
      "metadata": {
        "id": "mIFdbANGD5eT",
        "colab_type": "code",
        "colab": {
          "base_uri": "https://localhost:8080/",
          "height": 156
        },
        "outputId": "d47073f8-7b72-4e92-8b73-348914cac4c7"
      },
      "source": [
        "counts = ct(result2)\n",
        "count_p = counts['Positive']\n",
        "count_n = counts['Negative']\n",
        "slices = [count_p,count_n]\n",
        "cols = ['b','c']\n",
        "plt.pie(slices, labels=['Positive','Negative'],colors = cols,shadow=True,startangle=90,autopct='%1.1f%%')\n",
        "plt.title(\"Prediksi\")\n",
        "plt.legend()\n",
        "plt.show()"
      ],
      "execution_count": 36,
      "outputs": [
        {
          "output_type": "display_data",
          "data": {
            "image/png": "[encoded data removed]",
            "text/plain": [
              "<Figure size 576x144 with 1 Axes>"
            ]
          },
          "metadata": {
            "tags": []
          }
        }
      ]
    }
  ]
}